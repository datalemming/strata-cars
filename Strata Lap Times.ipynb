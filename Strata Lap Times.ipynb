{
 "cells": [
  {
   "cell_type": "code",
   "execution_count": 2,
   "metadata": {
    "collapsed": false,
    "scrolled": true
   },
   "outputs": [
    {
     "data": {
      "text/plain": [
       "True"
      ]
     },
     "execution_count": 2,
     "metadata": {},
     "output_type": "execute_result"
    }
   ],
   "source": [
    "from riak import RiakClient\n",
    "c=RiakClient()\n",
    "c.ping()"
   ]
  },
  {
   "cell_type": "code",
   "execution_count": 9,
   "metadata": {
    "collapsed": false,
    "scrolled": true
   },
   "outputs": [
    {
     "name": "stdout",
     "output_type": "stream",
     "text": [
      "\n",
      "    select * from stratalaptimes where ts > 1464725715757 and ts < 1464898516000 and event = 'StrataLondon'\n",
      "\n"
     ]
    }
   ],
   "source": [
    "from datetime import datetime\n",
    "\n",
    "start=1464725715757\n",
    "end=1464898516000\n",
    "\n",
    "q=\"\"\"\n",
    "    select * from stratalaptimes where ts > {t1} and ts < {t2} and event = 'StrataLondon'\n",
    "\"\"\"\n",
    "query=q.format(t1=start, t2=end)\n",
    "print query\n",
    "ds=c.ts_query('stratalaptimes', query)\n"
   ]
  },
  {
   "cell_type": "code",
   "execution_count": 10,
   "metadata": {
    "collapsed": false,
    "scrolled": true
   },
   "outputs": [
    {
     "name": "stdout",
     "output_type": "stream",
     "text": [
      "          event                      ts  email   laptime\n",
      "0  StrataLondon 2016-05-31 20:15:16.757  dummy  1.962312\n",
      "1  StrataLondon 2016-05-31 20:29:14.189  dummy  1.613724\n",
      "2  StrataLondon 2016-05-31 20:29:15.189  dummy  1.601567\n",
      "3  StrataLondon 2016-05-31 20:29:16.189  dummy  1.546261\n",
      "4  StrataLondon 2016-05-31 20:29:17.189  dummy  1.506116\n",
      "\n",
      "\n",
      "\n"
     ]
    },
    {
     "data": {
      "text/html": [
       "<div>\n",
       "<table border=\"1\" class=\"dataframe\">\n",
       "  <thead>\n",
       "    <tr style=\"text-align: right;\">\n",
       "      <th></th>\n",
       "      <th>laptime</th>\n",
       "    </tr>\n",
       "  </thead>\n",
       "  <tbody>\n",
       "    <tr>\n",
       "      <th>count</th>\n",
       "      <td>1331.000000</td>\n",
       "    </tr>\n",
       "    <tr>\n",
       "      <th>mean</th>\n",
       "      <td>2.329541</td>\n",
       "    </tr>\n",
       "    <tr>\n",
       "      <th>std</th>\n",
       "      <td>17.286113</td>\n",
       "    </tr>\n",
       "    <tr>\n",
       "      <th>min</th>\n",
       "      <td>0.235418</td>\n",
       "    </tr>\n",
       "    <tr>\n",
       "      <th>25%</th>\n",
       "      <td>1.206444</td>\n",
       "    </tr>\n",
       "    <tr>\n",
       "      <th>50%</th>\n",
       "      <td>1.417218</td>\n",
       "    </tr>\n",
       "    <tr>\n",
       "      <th>75%</th>\n",
       "      <td>1.748396</td>\n",
       "    </tr>\n",
       "    <tr>\n",
       "      <th>max</th>\n",
       "      <td>622.561118</td>\n",
       "    </tr>\n",
       "  </tbody>\n",
       "</table>\n",
       "</div>"
      ],
      "text/plain": [
       "           laptime\n",
       "count  1331.000000\n",
       "mean      2.329541\n",
       "std      17.286113\n",
       "min       0.235418\n",
       "25%       1.206444\n",
       "50%       1.417218\n",
       "75%       1.748396\n",
       "max     622.561118"
      ]
     },
     "execution_count": 10,
     "metadata": {},
     "output_type": "execute_result"
    }
   ],
   "source": [
    "%matplotlib inline\n",
    "import matplotlib as plt\n",
    "import pandas as pd\n",
    "\n",
    "cols=['event','ts','email','laptime']\n",
    "df=pd.DataFrame(ds.rows, columns=cols)\n",
    "print df.head()\n",
    "print'\\n\\n'\n",
    "df.describe()\n",
    "\n",
    "\n"
   ]
  },
  {
   "cell_type": "code",
   "execution_count": null,
   "metadata": {
    "collapsed": false,
    "scrolled": true
   },
   "outputs": [],
   "source": [
    "q2=\"\"\"\n",
    "    select * from stratalaptimes where ts > {t1} and ts < {t2} and event = 'StrataLondon' and laptime<1.1\n",
    "\"\"\"\n",
    "query2=q2.format(t1=start, t2=end)\n",
    "print query2\n",
    "ds2=c.ts_query('stratalaptimes', query2)\n",
    "for r in range(len(ds2.rows)):\n",
    "    print ds2.rows[r]\n"
   ]
  },
  {
   "cell_type": "code",
   "execution_count": null,
   "metadata": {
    "collapsed": false
   },
   "outputs": [],
   "source": [
    "df2=pd.DataFrame(ds2.rows,columns=cols)\n",
    "res=df2.sort_values(by=['laptime'], ascending=True)"
   ]
  },
  {
   "cell_type": "code",
   "execution_count": null,
   "metadata": {
    "collapsed": false,
    "scrolled": false
   },
   "outputs": [],
   "source": [
    "res.head(12)"
   ]
  },
  {
   "cell_type": "markdown",
   "metadata": {},
   "source": [
    "### 0.25 is a cheat as he touched the switch manually not using the car.  IGNORE for competition purposes.  Also same for the basho.com results."
   ]
  },
  {
   "cell_type": "code",
   "execution_count": null,
   "metadata": {
    "collapsed": true
   },
   "outputs": [],
   "source": []
  }
 ],
 "metadata": {
  "kernelspec": {
   "display_name": "Python 2",
   "language": "python",
   "name": "python2"
  },
  "language_info": {
   "codemirror_mode": {
    "name": "ipython",
    "version": 2
   },
   "file_extension": ".py",
   "mimetype": "text/x-python",
   "name": "python",
   "nbconvert_exporter": "python",
   "pygments_lexer": "ipython2",
   "version": "2.7.6"
  }
 },
 "nbformat": 4,
 "nbformat_minor": 0
}
